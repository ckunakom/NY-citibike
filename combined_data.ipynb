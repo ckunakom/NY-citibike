{
 "cells": [
  {
   "cell_type": "code",
   "execution_count": null,
   "metadata": {},
   "outputs": [],
   "source": [
    "# Dependencies\n",
    "import pandas as pd"
   ]
  },
  {
   "cell_type": "code",
   "execution_count": null,
   "metadata": {},
   "outputs": [],
   "source": [
    "# Read data file with pd library\n",
    "## Pre-confirmed COVID-19\n",
    "bikedata2019oct_df = pd.read_csv('Resources/201910-citibike-tripdata.csv')\n",
    "bikedata2019nov_df = pd.read_csv('Resources/201911-citibike-tripdata.csv')\n",
    "bikedata2019dec_df = pd.read_csv('Resources/201912-citibike-tripdata.csv')\n",
    "bikedata2020jan_df = pd.read_csv('Resources/202001-citibike-tripdata.csv')\n",
    "bikedata2020feb_df = pd.read_csv('Resources/202002-citibike-tripdata.csv')\n",
    "## Post-confirmed COVID-19\n",
    "bikedata2020mar_df = pd.read_csv('Resources/202003-citibike-tripdata.csv')\n",
    "bikedata2020apr_df = pd.read_csv('Resources/202004-citibike-tripdata.csv')\n",
    "bikedata2020may_df = pd.read_csv('Resources/202005-citibike-tripdata.csv')\n",
    "bikedata2020jun_df = pd.read_csv('Resources/202006-citibike-tripdata.csv')\n",
    "bikedata2020jul_df = pd.read_csv('Resources/202007-citibike-tripdata.csv')\n",
    "bikedata2020aug_df = pd.read_csv('Resources/202008-citibike-tripdata.csv')\n",
    "bikedata2020sep_df = pd.read_csv('Resources/202009-citibike-tripdata.csv')"
   ]
  },
  {
   "cell_type": "code",
   "execution_count": null,
   "metadata": {},
   "outputs": [],
   "source": [
    "# Quick peak: what data types do we have?\n",
    "bikedata2019oct_df.dtypes"
   ]
  },
  {
   "cell_type": "code",
   "execution_count": null,
   "metadata": {},
   "outputs": [],
   "source": [
    "bikedata2019oct_df.head(4) ## try sort startime/stop tome to see what other format"
   ]
  },
  {
   "cell_type": "code",
   "execution_count": null,
   "metadata": {},
   "outputs": [],
   "source": [
    "# Combined all the data from 2019-OCT to 2020-FEB\n",
    "precovid_df = pd.concat([bikedata2019oct_df, bikedata2019nov_df, bikedata2019dec_df, bikedata2020jan_df, bikedata2020feb_df])\n",
    "\n",
    "precovid_df"
   ]
  },
  {
   "cell_type": "code",
   "execution_count": null,
   "metadata": {
    "scrolled": false
   },
   "outputs": [],
   "source": [
    "# Combined all the data from 2020-MAR to 2020-SEP\n",
    "postcovid_df = pd.concat([bikedata2020mar_df, bikedata2020apr_df, bikedata2020may_df, bikedata2020jun_df, bikedata2020jul_df, bikedata2020aug_df, bikedata2020sep_df])\n",
    "\n",
    "postcovid_df"
   ]
  },
  {
   "cell_type": "code",
   "execution_count": null,
   "metadata": {},
   "outputs": [],
   "source": [
    "# Export the two csv\n",
    "precovid_df.to_csv('data/precovid19.csv', index=False)\n",
    "postcovid_df.to_csv('data/postcovid19.csv', index=False)"
   ]
  }
 ],
 "metadata": {
  "kernelspec": {
   "display_name": "Python 3",
   "language": "python",
   "name": "python3"
  },
  "language_info": {
   "codemirror_mode": {
    "name": "ipython",
    "version": 3
   },
   "file_extension": ".py",
   "mimetype": "text/x-python",
   "name": "python",
   "nbconvert_exporter": "python",
   "pygments_lexer": "ipython3",
   "version": "3.6.10"
  }
 },
 "nbformat": 4,
 "nbformat_minor": 4
}
